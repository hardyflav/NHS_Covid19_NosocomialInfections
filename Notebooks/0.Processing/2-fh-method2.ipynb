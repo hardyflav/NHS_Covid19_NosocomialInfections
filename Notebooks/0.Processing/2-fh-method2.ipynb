{
 "cells": [
  {
   "cell_type": "markdown",
   "id": "0d03f78a",
   "metadata": {},
   "source": [
    "# Identification of NI using method 2 (LOS>15 days)"
   ]
  },
  {
   "cell_type": "markdown",
   "id": "10a0dea3",
   "metadata": {},
   "source": [
    "Notes: - Includes data from 1st January 2020 - 31st March 2021"
   ]
  },
  {
   "cell_type": "code",
   "execution_count": 55,
   "id": "f4107189",
   "metadata": {},
   "outputs": [
    {
     "name": "stdout",
     "output_type": "stream",
     "text": [
      "importing Jupyter notebook from NI_M2.ipynb\n"
     ]
    },
    {
     "data": {
      "text/plain": [
       "<module 'NI_M2' from 'NI_M2.ipynb'>"
      ]
     },
     "execution_count": 55,
     "metadata": {},
     "output_type": "execute_result"
    }
   ],
   "source": [
    "# Importing Libraries\n",
    "import import_ipynb\n",
    "import pandas as pd\n",
    "import numpy as np\n",
    "import matplotlib.pyplot as plt\n",
    "import seaborn as sns\n",
    "from importlib import reload\n",
    "\n",
    "# Importing Notebooks\n",
    "import NI_M2\n",
    "reload(NI_M2)\n"
   ]
  },
  {
   "cell_type": "markdown",
   "id": "fe68ad4b",
   "metadata": {},
   "source": [
    "## Importing and reading datasets"
   ]
  },
  {
   "cell_type": "code",
   "execution_count": 2,
   "id": "b56b242a",
   "metadata": {},
   "outputs": [],
   "source": [
    "\n",
    "SaveCSV = False\n",
    "ReadExcel = True\n",
    "\n",
    "# Optional: Reading Excel file and saving csv file\n",
    "if SaveCSV:\n",
    "    read_file = pd.read_excel(r'O:\\DiRAC\\FlavienHardy\\2_NosocomialInfections\\Data\\0_Raw\\MarchData\\All episodes 07-06-21.xlsx', sheet_name='Sheet1')\n",
    "    read_file.to_csv(r'O:\\DiRAC\\FlavienHardy\\2_NosocomialInfections\\Data\\1_Processed\\All episodes 07-06-21.csv', index=None, header=True)\n",
    "\n",
    "if ReadExcel:\n",
    "    # Importing dataset\n",
    "    df_AllEpisodes = pd.read_excel(r'O:\\GIRFT DiRAC\\FlavienHardy\\2_NosocomialInfections\\Data\\0_Raw\\MarchData\\All episodes 29-06-21.xlsx')\n"
   ]
  },
  {
   "cell_type": "markdown",
   "id": "28660650",
   "metadata": {},
   "source": [
    "## Pre-processing"
   ]
  },
  {
   "cell_type": "code",
   "execution_count": 56,
   "id": "6b8c251e",
   "metadata": {},
   "outputs": [
    {
     "name": "stdout",
     "output_type": "stream",
     "text": [
      "Size of dataset: (486304, 18)\n"
     ]
    },
    {
     "data": {
      "text/html": [
       "<div>\n",
       "<style scoped>\n",
       "    .dataframe tbody tr th:only-of-type {\n",
       "        vertical-align: middle;\n",
       "    }\n",
       "\n",
       "    .dataframe tbody tr th {\n",
       "        vertical-align: top;\n",
       "    }\n",
       "\n",
       "    .dataframe thead th {\n",
       "        text-align: right;\n",
       "    }\n",
       "</style>\n",
       "<table border=\"1\" class=\"dataframe\">\n",
       "  <thead>\n",
       "    <tr style=\"text-align: right;\">\n",
       "      <th></th>\n",
       "      <th>HESID</th>\n",
       "      <th>diagnosis_group</th>\n",
       "      <th>Admission_date</th>\n",
       "      <th>Discharge_date</th>\n",
       "      <th>EPIstart</th>\n",
       "      <th>EPIend</th>\n",
       "      <th>Diff_EPIstart_Admission</th>\n",
       "    </tr>\n",
       "  </thead>\n",
       "  <tbody>\n",
       "    <tr>\n",
       "      <th>23777</th>\n",
       "      <td>000092DDD60956DDAD79301E546F2D9B</td>\n",
       "      <td>U072~J189~-1~-1~-1~-1~-1~-1~-1~-1~-1~-1~-1~-1~...</td>\n",
       "      <td>2020-03-24</td>\n",
       "      <td>2020-04-03</td>\n",
       "      <td>2020-03-25</td>\n",
       "      <td>2020-03-30</td>\n",
       "      <td>1</td>\n",
       "    </tr>\n",
       "    <tr>\n",
       "      <th>26405</th>\n",
       "      <td>0000FFD16F52D58C19C8EE80D07B9435</td>\n",
       "      <td>U071~J128~B972~J9690~B972~F059~R268~R464~I489~...</td>\n",
       "      <td>2020-03-26</td>\n",
       "      <td>2020-07-27</td>\n",
       "      <td>2020-03-26</td>\n",
       "      <td>2020-04-28</td>\n",
       "      <td>0</td>\n",
       "    </tr>\n",
       "  </tbody>\n",
       "</table>\n",
       "</div>"
      ],
      "text/plain": [
       "                                  HESID  \\\n",
       "23777  000092DDD60956DDAD79301E546F2D9B   \n",
       "26405  0000FFD16F52D58C19C8EE80D07B9435   \n",
       "\n",
       "                                         diagnosis_group Admission_date  \\\n",
       "23777  U072~J189~-1~-1~-1~-1~-1~-1~-1~-1~-1~-1~-1~-1~...     2020-03-24   \n",
       "26405  U071~J128~B972~J9690~B972~F059~R268~R464~I489~...     2020-03-26   \n",
       "\n",
       "      Discharge_date   EPIstart     EPIend  Diff_EPIstart_Admission  \n",
       "23777     2020-04-03 2020-03-25 2020-03-30                        1  \n",
       "26405     2020-07-27 2020-03-26 2020-04-28                        0  "
      ]
     },
     "execution_count": 56,
     "metadata": {},
     "output_type": "execute_result"
    }
   ],
   "source": [
    "\n",
    "# Pre-processing: homogenising date formats\n",
    "df2 = df_AllEpisodes\n",
    "df2 = NI_M2.PreProcessing(df2)\n",
    "\n",
    "ColumnList = ['HESID', 'diagnosis_group', 'Admission_date', 'Discharge_date', 'EPIstart', 'EPIend', 'Diff_EPIstart_Admission']\n",
    "print('Size of dataset:', df2.shape)\n",
    "df2[ColumnList].head(2)\n"
   ]
  },
  {
   "cell_type": "markdown",
   "id": "8808984f",
   "metadata": {},
   "source": [
    "## Implementing methods 2"
   ]
  },
  {
   "cell_type": "code",
   "execution_count": 79,
   "id": "bb0db2f7",
   "metadata": {},
   "outputs": [
    {
     "name": "stdout",
     "output_type": "stream",
     "text": [
      "Size of dataset: (486304, 9)\n",
      "Contains UNIQUE spells\n",
      "Contains DUPLICATE patients; number of UNIQUE patients = 382329\n"
     ]
    },
    {
     "data": {
      "text/html": [
       "<div>\n",
       "<style scoped>\n",
       "    .dataframe tbody tr th:only-of-type {\n",
       "        vertical-align: middle;\n",
       "    }\n",
       "\n",
       "    .dataframe tbody tr th {\n",
       "        vertical-align: top;\n",
       "    }\n",
       "\n",
       "    .dataframe thead th {\n",
       "        text-align: right;\n",
       "    }\n",
       "</style>\n",
       "<table border=\"1\" class=\"dataframe\">\n",
       "  <thead>\n",
       "    <tr style=\"text-align: right;\">\n",
       "      <th></th>\n",
       "      <th>P_Spell_ID</th>\n",
       "      <th>HESID</th>\n",
       "      <th>diagnosis_group</th>\n",
       "      <th>Admission_date</th>\n",
       "      <th>Discharge_date</th>\n",
       "      <th>EPIstart</th>\n",
       "      <th>Diff_EPIstart_Admission</th>\n",
       "      <th>NC_Method2_15</th>\n",
       "      <th>NC_Method2_8</th>\n",
       "    </tr>\n",
       "  </thead>\n",
       "  <tbody>\n",
       "    <tr>\n",
       "      <th>23777</th>\n",
       "      <td>1656</td>\n",
       "      <td>000092DDD60956DDAD79301E546F2D9B</td>\n",
       "      <td>U072~J189~-1~-1~-1~-1~-1~-1~-1~-1~-1~-1~-1~-1~...</td>\n",
       "      <td>2020-03-24</td>\n",
       "      <td>2020-04-03</td>\n",
       "      <td>2020-03-25</td>\n",
       "      <td>1</td>\n",
       "      <td>0</td>\n",
       "      <td>0</td>\n",
       "    </tr>\n",
       "    <tr>\n",
       "      <th>26405</th>\n",
       "      <td>2864</td>\n",
       "      <td>0000FFD16F52D58C19C8EE80D07B9435</td>\n",
       "      <td>U071~J128~B972~J9690~B972~F059~R268~R464~I489~...</td>\n",
       "      <td>2020-03-26</td>\n",
       "      <td>2020-07-27</td>\n",
       "      <td>2020-03-26</td>\n",
       "      <td>0</td>\n",
       "      <td>0</td>\n",
       "      <td>0</td>\n",
       "    </tr>\n",
       "  </tbody>\n",
       "</table>\n",
       "</div>"
      ],
      "text/plain": [
       "       P_Spell_ID                             HESID  \\\n",
       "23777        1656  000092DDD60956DDAD79301E546F2D9B   \n",
       "26405        2864  0000FFD16F52D58C19C8EE80D07B9435   \n",
       "\n",
       "                                         diagnosis_group Admission_date  \\\n",
       "23777  U072~J189~-1~-1~-1~-1~-1~-1~-1~-1~-1~-1~-1~-1~...     2020-03-24   \n",
       "26405  U071~J128~B972~J9690~B972~F059~R268~R464~I489~...     2020-03-26   \n",
       "\n",
       "      Discharge_date   EPIstart  Diff_EPIstart_Admission  NC_Method2_15  \\\n",
       "23777     2020-04-03 2020-03-25                        1              0   \n",
       "26405     2020-07-27 2020-03-26                        0              0   \n",
       "\n",
       "       NC_Method2_8  \n",
       "23777             0  \n",
       "26405             0  "
      ]
     },
     "execution_count": 79,
     "metadata": {},
     "output_type": "execute_result"
    }
   ],
   "source": [
    "\n",
    "ColumnNames = []\n",
    "Ndays = [15, 8]\n",
    "for ndays in Ndays:\n",
    "    df2 = NI_M2.NI_M2_Identification(df2, ndays)\n",
    "    ColumnNames.append('NC_Method2_'+str(ndays))\n",
    "\n",
    "# Extract patient / Method 2 classification\n",
    "ColumnList = ['P_Spell_ID','HESID', 'diagnosis_group', 'Admission_date', 'Discharge_date', 'EPIstart', 'Diff_EPIstart_Admission']+ColumnNames\n",
    "df_M2 = df2[ColumnList]\n",
    "\n",
    "print('Size of dataset:', df_M2.shape)\n",
    "df_M2.head(5)\n",
    "\n",
    "if len( df_M2['P_Spell_ID'] ) == len(set(df_M2['P_Spell_ID'])):\n",
    "    print('Contains UNIQUE spells')\n",
    "else:\n",
    "    print('Contains DUPLICATE spells')\n",
    "    \n",
    "if len( df_M2['HESID'] ) == len(set(df_M2['HESID'])):\n",
    "    print('Contains UNIQUE patients.')\n",
    "else:\n",
    "    print('Contains DUPLICATE patients; number of UNIQUE patients =', len(set(df_M2['HESID'])))\n",
    "\n",
    "df_M2.head(2)\n"
   ]
  },
  {
   "cell_type": "code",
   "execution_count": 80,
   "id": "b7562651",
   "metadata": {},
   "outputs": [
    {
     "name": "stdout",
     "output_type": "stream",
     "text": [
      "-----------------------\n",
      "Method 2 using 15 days cut-off:\n",
      "Total number of infections in dataset:  486304\n",
      "Number of identified NI using M2:  9469\n",
      "Proportion of identified NI using M2:  1.9471359478844508 %\n",
      "-----------------------\n",
      "Method 2 using 8 days cut-off:\n",
      "Total number of infections in dataset:  486304\n",
      "Number of identified NI using M2:  19498\n",
      "Proportion of identified NI using M2:  4.009426202539975 %\n"
     ]
    }
   ],
   "source": [
    "\n",
    "# Print characteristics for two methods 2\n",
    "Ndays = [15, 8]\n",
    "for ndays in Ndays:\n",
    "    \n",
    "    NameColumn = 'NC_Method2_'+str(ndays)\n",
    "    N_NI_M2 = df_M2[NameColumn].sum()\n",
    "    N_Infections = df_M2[NameColumn].count()\n",
    "    NI_Prop_NI = 100*N_NI_M2/N_Infections\n",
    "    \n",
    "    print('-----------------------')\n",
    "    print('Method 2 using ' + str(ndays) + ' days cut-off:')\n",
    "    print('Total number of infections in dataset: ', N_Infections)\n",
    "    print('Number of identified NI using M2: ', N_NI_M2)\n",
    "    print('Proportion of identified NI using M2: ', NI_Prop_NI, '%')\n"
   ]
  },
  {
   "cell_type": "code",
   "execution_count": 81,
   "id": "82a25dcd",
   "metadata": {},
   "outputs": [],
   "source": [
    "\n",
    "# Save M2 dataframe\n",
    "Save = True\n",
    "path = r'O:\\GIRFT DiRAC\\FlavienHardy\\2_NosocomialInfections\\src\\0.processing\\data\\NI_M2.csv'\n",
    "if Save:\n",
    "    df_M2.to_csv(r'O:\\GIRFT DiRAC\\FlavienHardy\\2_NosocomialInfections\\src\\0.processing\\data\\NI_M2.csv')\n"
   ]
  },
  {
   "cell_type": "code",
   "execution_count": null,
   "id": "5196c942",
   "metadata": {},
   "outputs": [],
   "source": []
  }
 ],
 "metadata": {
  "kernelspec": {
   "display_name": "env",
   "language": "python",
   "name": "env"
  },
  "language_info": {
   "codemirror_mode": {
    "name": "ipython",
    "version": 3
   },
   "file_extension": ".py",
   "mimetype": "text/x-python",
   "name": "python",
   "nbconvert_exporter": "python",
   "pygments_lexer": "ipython3",
   "version": "3.9.2"
  }
 },
 "nbformat": 4,
 "nbformat_minor": 5
}
