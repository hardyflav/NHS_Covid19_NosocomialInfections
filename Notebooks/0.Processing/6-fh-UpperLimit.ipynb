{
 "cells": [
  {
   "cell_type": "code",
   "execution_count": 1,
   "id": "796b13bb",
   "metadata": {},
   "outputs": [
    {
     "name": "stdout",
     "output_type": "stream",
     "text": [
      "importing Jupyter notebook from NI_M1.ipynb\n",
      "importing Jupyter notebook from NI_M2.ipynb\n",
      "importing Jupyter notebook from NI_M1.ipynb\n",
      "importing Jupyter notebook from NI_M2.ipynb\n"
     ]
    },
    {
     "data": {
      "text/plain": [
       "<module 'NI_M2' from 'NI_M2.ipynb'>"
      ]
     },
     "execution_count": 1,
     "metadata": {},
     "output_type": "execute_result"
    }
   ],
   "source": [
    "# Importing Libraries\n",
    "import import_ipynb\n",
    "import pandas as pd\n",
    "import numpy as np\n",
    "import matplotlib.pyplot as plt\n",
    "import seaborn as sns\n",
    "from importlib import reload\n",
    "\n",
    "import datetime\n",
    "\n",
    "import NI_M1\n",
    "import NI_M2\n",
    "reload(NI_M1)\n",
    "reload(NI_M2)\n"
   ]
  },
  {
   "cell_type": "code",
   "execution_count": 2,
   "id": "638c6a56",
   "metadata": {},
   "outputs": [],
   "source": [
    "\n",
    "# Import dataset\n",
    "ReadCSV = False\n",
    "if ReadCSV:\n",
    "    df_ini = pd.read_csv(r'O:\\GIRFT DiRAC\\FlavienHardy\\2_NosocomialInfections\\src\\0.processing\\data\\NI_Final.csv')\n"
   ]
  },
  {
   "cell_type": "markdown",
   "id": "044345f2",
   "metadata": {},
   "source": [
    "# Elective admissions: to do again with update AllEpisodes"
   ]
  },
  {
   "cell_type": "code",
   "execution_count": 159,
   "id": "e17ac477",
   "metadata": {},
   "outputs": [
    {
     "name": "stdout",
     "output_type": "stream",
     "text": [
      "Number of infections identified: 2523\n",
      "------------------------------------\n",
      "These infections correspond to ELECTIVE admissions, with LOS > 7\n"
     ]
    },
    {
     "data": {
      "text/html": [
       "<div>\n",
       "<style scoped>\n",
       "    .dataframe tbody tr th:only-of-type {\n",
       "        vertical-align: middle;\n",
       "    }\n",
       "\n",
       "    .dataframe tbody tr th {\n",
       "        vertical-align: top;\n",
       "    }\n",
       "\n",
       "    .dataframe thead th {\n",
       "        text-align: right;\n",
       "    }\n",
       "</style>\n",
       "<table border=\"1\" class=\"dataframe\">\n",
       "  <thead>\n",
       "    <tr style=\"text-align: right;\">\n",
       "      <th></th>\n",
       "      <th>POD_EL</th>\n",
       "      <th>POD_DC</th>\n",
       "      <th>Spell_Los</th>\n",
       "      <th>UP_LOS_ElAdm</th>\n",
       "    </tr>\n",
       "  </thead>\n",
       "  <tbody>\n",
       "    <tr>\n",
       "      <th>20</th>\n",
       "      <td>1</td>\n",
       "      <td>0</td>\n",
       "      <td>34</td>\n",
       "      <td>1</td>\n",
       "    </tr>\n",
       "    <tr>\n",
       "      <th>50</th>\n",
       "      <td>1</td>\n",
       "      <td>0</td>\n",
       "      <td>24</td>\n",
       "      <td>1</td>\n",
       "    </tr>\n",
       "  </tbody>\n",
       "</table>\n",
       "</div>"
      ],
      "text/plain": [
       "    POD_EL  POD_DC  Spell_Los  UP_LOS_ElAdm\n",
       "20       1       0         34             1\n",
       "50       1       0         24             1"
      ]
     },
     "execution_count": 159,
     "metadata": {},
     "output_type": "execute_result"
    }
   ],
   "source": [
    "\n",
    "df = df_ini\n",
    "\n",
    "FilterAdmission = (df['POD_EL'] + df_ini['POD_DC'] >= 1)\n",
    "Filter_LOS_ElAdm = (df['Spell_Los']>7) & FilterElectiveAdm\n",
    "df['UP_LOS_ElAdm'] = np.where(Filter_LOS_ElAdm, 1, 0)\n",
    "\n",
    "print('Number of infections identified:', df['UP_LOS_ElAdm'].sum())\n",
    "ColumnList = ['POD_EL', 'POD_DC', 'Spell_Los', 'UP_LOS_ElAdm']\n",
    "\n",
    "df5 = df[df['UP_LOS_ElAdm']==1][ColumnList]\n",
    "\n",
    "print('------------------------------------')\n",
    "print('These infections correspond to ELECTIVE admissions, with LOS > 7')\n",
    "df5.head(2)\n"
   ]
  },
  {
   "cell_type": "markdown",
   "id": "b4983fa4",
   "metadata": {},
   "source": [
    "# Emergency admissions"
   ]
  },
  {
   "cell_type": "code",
   "execution_count": 42,
   "id": "c8a241e3",
   "metadata": {},
   "outputs": [],
   "source": [
    "\n",
    "# Import dataset\n",
    "ReadCSV = False\n",
    "if ReadCSV:\n",
    "    df_AllEpisodes = pd.read_excel(r'O:\\GIRFT DiRAC\\FlavienHardy\\2_NosocomialInfections\\Data\\0_Raw\\MarchData\\All episodes 07-06-21.xlsx')\n"
   ]
  },
  {
   "cell_type": "markdown",
   "id": "692e3acd",
   "metadata": {},
   "source": [
    "### Find first episodes"
   ]
  },
  {
   "cell_type": "code",
   "execution_count": null,
   "id": "63cb72fb",
   "metadata": {},
   "outputs": [],
   "source": [
    "\n",
    "df2 = df_AllEpisodes\n",
    "\n",
    "# Format date features\n",
    "DateFeatures = ['Admission_date', 'EPIstart']\n",
    "for feature in DateFeatures:\n",
    "    df2[feature] = pd.to_datetime(df2[feature])\n",
    "\n",
    "# Find first episode with Covid-19\n",
    "Columnslist = ['P_Spell_ID', 'Admission_date', 'EPIstart']\n",
    "IndexFirstEpisode = df2[Columnslist].groupby(by=['P_Spell_ID', 'Admission_date'])['EPIstart'].idxmin().values\n",
    "df2 = df2.iloc[IndexFirstEpisode]\n",
    "df2.head(2)\n"
   ]
  },
  {
   "cell_type": "code",
   "execution_count": null,
   "id": "35c08d08",
   "metadata": {},
   "outputs": [],
   "source": [
    "\n",
    "# Keep infections diagnosed AFTER admission\n",
    "Filter = ( pd.to_datetime(df2['EPIstart']) - pd.to_datetime(df2['Admission_date']) > datetime.timedelta(days=0))\n",
    "df3 = df2[Filter]\n",
    "df3.head(2)\n"
   ]
  },
  {
   "cell_type": "code",
   "execution_count": 161,
   "id": "1ed9e6ba",
   "metadata": {},
   "outputs": [
    {
     "name": "stdout",
     "output_type": "stream",
     "text": [
      "These Spell_IDs correspond to spells where the FIRST occurence of Covid-19 appeared AFTER the start of the spell.\n"
     ]
    },
    {
     "data": {
      "text/html": [
       "<div>\n",
       "<style scoped>\n",
       "    .dataframe tbody tr th:only-of-type {\n",
       "        vertical-align: middle;\n",
       "    }\n",
       "\n",
       "    .dataframe tbody tr th {\n",
       "        vertical-align: top;\n",
       "    }\n",
       "\n",
       "    .dataframe thead th {\n",
       "        text-align: right;\n",
       "    }\n",
       "</style>\n",
       "<table border=\"1\" class=\"dataframe\">\n",
       "  <thead>\n",
       "    <tr style=\"text-align: right;\">\n",
       "      <th></th>\n",
       "      <th>P_Spell_ID</th>\n",
       "      <th>HESID</th>\n",
       "      <th>EPIstart</th>\n",
       "      <th>Admission_date</th>\n",
       "    </tr>\n",
       "  </thead>\n",
       "  <tbody>\n",
       "    <tr>\n",
       "      <th>23776</th>\n",
       "      <td>1656.0</td>\n",
       "      <td>000092DDD60956DDAD79301E546F2D9B</td>\n",
       "      <td>2020-03-25</td>\n",
       "      <td>2020-03-24</td>\n",
       "    </tr>\n",
       "    <tr>\n",
       "      <th>100003</th>\n",
       "      <td>12041.0</td>\n",
       "      <td>00040034499D14709B5E6E441D0C612C</td>\n",
       "      <td>2020-04-10</td>\n",
       "      <td>2020-04-01</td>\n",
       "    </tr>\n",
       "  </tbody>\n",
       "</table>\n",
       "</div>"
      ],
      "text/plain": [
       "        P_Spell_ID                             HESID   EPIstart Admission_date\n",
       "23776       1656.0  000092DDD60956DDAD79301E546F2D9B 2020-03-25     2020-03-24\n",
       "100003     12041.0  00040034499D14709B5E6E441D0C612C 2020-04-10     2020-04-01"
      ]
     },
     "execution_count": 161,
     "metadata": {},
     "output_type": "execute_result"
    }
   ],
   "source": [
    "\n",
    "# Keep columns of interest\n",
    "ColumnList = ['P_Spell_ID', 'HESID', 'EPIstart', 'Admission_date']\n",
    "df3_Sub = df3[ColumnList]\n",
    "\n",
    "print('These Spell_IDs correspond to spells where the FIRST occurence of Covid-19 appeared AFTER the start of the spell.')\n",
    "df3_Sub.head(2)\n"
   ]
  },
  {
   "cell_type": "markdown",
   "id": "277d36dd",
   "metadata": {},
   "source": [
    "### Link with POD dataset"
   ]
  },
  {
   "cell_type": "code",
   "execution_count": 101,
   "id": "00511d74",
   "metadata": {},
   "outputs": [
    {
     "name": "stderr",
     "output_type": "stream",
     "text": [
      "C:\\Users\\flavien.hardy\\OneDrive - NHS Improvement\\Desktop\\FH_Local\\env\\lib\\site-packages\\IPython\\core\\interactiveshell.py:3169: DtypeWarning: Columns (22) have mixed types.Specify dtype option on import or set low_memory=False.\n",
      "  has_raised = await self.run_ast_nodes(code_ast.body, cell_name,\n"
     ]
    }
   ],
   "source": [
    "\n",
    "# Import dataset\n",
    "ReadCSV = True\n",
    "if ReadCSV:\n",
    "    df_Assembled = pd.read_csv(r'O:\\GIRFT DiRAC\\FlavienHardy\\2_NosocomialInfections\\src\\0.processing\\data\\NI_Assembled.csv')\n"
   ]
  },
  {
   "cell_type": "code",
   "execution_count": 163,
   "id": "ba507529",
   "metadata": {},
   "outputs": [
    {
     "name": "stdout",
     "output_type": "stream",
     "text": [
      "Number of infections identified: (39746, 3)\n",
      "------------------------------------\n",
      "These spells correspond to EM admissions with LOS > 7 days, and first infection recorded AFTER start of spell.\n"
     ]
    },
    {
     "data": {
      "text/html": [
       "<div>\n",
       "<style scoped>\n",
       "    .dataframe tbody tr th:only-of-type {\n",
       "        vertical-align: middle;\n",
       "    }\n",
       "\n",
       "    .dataframe tbody tr th {\n",
       "        vertical-align: top;\n",
       "    }\n",
       "\n",
       "    .dataframe thead th {\n",
       "        text-align: right;\n",
       "    }\n",
       "</style>\n",
       "<table border=\"1\" class=\"dataframe\">\n",
       "  <thead>\n",
       "    <tr style=\"text-align: right;\">\n",
       "      <th></th>\n",
       "      <th>P_Spell_ID</th>\n",
       "      <th>POD</th>\n",
       "      <th>Spell_Los</th>\n",
       "    </tr>\n",
       "  </thead>\n",
       "  <tbody>\n",
       "    <tr>\n",
       "      <th>0</th>\n",
       "      <td>1487000</td>\n",
       "      <td>EM</td>\n",
       "      <td>54</td>\n",
       "    </tr>\n",
       "    <tr>\n",
       "      <th>4</th>\n",
       "      <td>3445944</td>\n",
       "      <td>EM</td>\n",
       "      <td>55</td>\n",
       "    </tr>\n",
       "  </tbody>\n",
       "</table>\n",
       "</div>"
      ],
      "text/plain": [
       "   P_Spell_ID POD  Spell_Los\n",
       "0     1487000  EM         54\n",
       "4     3445944  EM         55"
      ]
     },
     "execution_count": 163,
     "metadata": {},
     "output_type": "execute_result"
    }
   ],
   "source": [
    "\n",
    "ColumnsList = ['P_Spell_ID', 'POD', 'Spell_Los']\n",
    "df_Assembled_Sub = df_Assembled[ColumnsList]\n",
    "\n",
    "Filter_LOS_EM = (df_Assembled_Sub['Spell_Los']>7) & (df_Assembled_Sub['POD']=='EM')\n",
    "List_FirstEpisode = df3_Sub['P_Spell_ID'].values\n",
    "FilterFirstEpisode = (df_Assembled_Sub['P_Spell_ID'].isin(List_FirstEpisode))\n",
    "Filter_EM = (Filter_LOS_EM) & (FilterFirstEpisode)\n",
    "\n",
    "df_4 = df_Assembled_Sub[ Filter_EM ]\n",
    "print('Number of infections identified:', df_4.shape)\n",
    "print('------------------------------------')\n",
    "print('These spells correspond to EM admissions with LOS > 7 days, and first infection recorded AFTER start of spell.')\n",
    "df_4.head(2)"
   ]
  },
  {
   "cell_type": "code",
   "execution_count": null,
   "id": "df3bfb0b",
   "metadata": {},
   "outputs": [],
   "source": []
  },
  {
   "cell_type": "code",
   "execution_count": null,
   "id": "4065df84",
   "metadata": {},
   "outputs": [],
   "source": []
  },
  {
   "cell_type": "code",
   "execution_count": null,
   "id": "3105c290",
   "metadata": {},
   "outputs": [],
   "source": []
  },
  {
   "cell_type": "code",
   "execution_count": null,
   "id": "32cd8cf1",
   "metadata": {},
   "outputs": [],
   "source": []
  }
 ],
 "metadata": {
  "kernelspec": {
   "display_name": "env",
   "language": "python",
   "name": "env"
  },
  "language_info": {
   "codemirror_mode": {
    "name": "ipython",
    "version": 3
   },
   "file_extension": ".py",
   "mimetype": "text/x-python",
   "name": "python",
   "nbconvert_exporter": "python",
   "pygments_lexer": "ipython3",
   "version": "3.9.2"
  }
 },
 "nbformat": 4,
 "nbformat_minor": 5
}
