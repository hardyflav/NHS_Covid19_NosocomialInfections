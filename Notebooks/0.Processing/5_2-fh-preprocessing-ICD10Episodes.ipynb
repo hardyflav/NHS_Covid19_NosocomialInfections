{
 "cells": [
  {
   "cell_type": "code",
   "execution_count": 1,
   "id": "a5115d41",
   "metadata": {},
   "outputs": [
    {
     "name": "stdout",
     "output_type": "stream",
     "text": [
      "importing Jupyter notebook from NI_M1.ipynb\n",
      "importing Jupyter notebook from NI_M2.ipynb\n",
      "importing Jupyter notebook from NI_M1.ipynb\n",
      "importing Jupyter notebook from NI_M2.ipynb\n"
     ]
    },
    {
     "data": {
      "text/plain": [
       "<module 'NI_M2' from 'NI_M2.ipynb'>"
      ]
     },
     "execution_count": 1,
     "metadata": {},
     "output_type": "execute_result"
    }
   ],
   "source": [
    "# Importing Libraries\n",
    "import import_ipynb\n",
    "import pandas as pd\n",
    "import numpy as np\n",
    "import matplotlib.pyplot as plt\n",
    "import seaborn as sns\n",
    "from importlib import reload\n",
    "\n",
    "import NI_M1\n",
    "import NI_M2\n",
    "reload(NI_M1)\n",
    "reload(NI_M2)\n"
   ]
  },
  {
   "cell_type": "code",
   "execution_count": 4,
   "id": "19c13e35",
   "metadata": {},
   "outputs": [],
   "source": [
    "\n",
    "# Import All Episodes dataset\n",
    "ReadExcel = True\n",
    "\n",
    "if ReadExcel:\n",
    "    df_AllEpisodes = pd.read_excel(r'O:\\GIRFT DiRAC\\FlavienHardy\\2_NosocomialInfections\\Data\\0_Raw\\MarchData\\All episodes 29-06-21.xlsx')\n"
   ]
  },
  {
   "cell_type": "code",
   "execution_count": 162,
   "id": "e9ee9184",
   "metadata": {},
   "outputs": [
    {
     "name": "stdout",
     "output_type": "stream",
     "text": [
      "Shape of dataset: (486304, 2)\n"
     ]
    },
    {
     "data": {
      "text/html": [
       "<div>\n",
       "<style scoped>\n",
       "    .dataframe tbody tr th:only-of-type {\n",
       "        vertical-align: middle;\n",
       "    }\n",
       "\n",
       "    .dataframe tbody tr th {\n",
       "        vertical-align: top;\n",
       "    }\n",
       "\n",
       "    .dataframe thead th {\n",
       "        text-align: right;\n",
       "    }\n",
       "</style>\n",
       "<table border=\"1\" class=\"dataframe\">\n",
       "  <thead>\n",
       "    <tr style=\"text-align: right;\">\n",
       "      <th></th>\n",
       "      <th>P_Spell_ID</th>\n",
       "      <th>ICD10_All</th>\n",
       "    </tr>\n",
       "  </thead>\n",
       "  <tbody>\n",
       "    <tr>\n",
       "      <th>0</th>\n",
       "      <td>1656</td>\n",
       "      <td>J189-J128-B972-J9690-U072</td>\n",
       "    </tr>\n",
       "    <tr>\n",
       "      <th>1</th>\n",
       "      <td>2864</td>\n",
       "      <td>G710-J128-B972-L984-I489-U071-F059-R268-J9690-...</td>\n",
       "    </tr>\n",
       "  </tbody>\n",
       "</table>\n",
       "</div>"
      ],
      "text/plain": [
       "   P_Spell_ID                                          ICD10_All\n",
       "0        1656                          J189-J128-B972-J9690-U072\n",
       "1        2864  G710-J128-B972-L984-I489-U071-F059-R268-J9690-..."
      ]
     },
     "execution_count": 162,
     "metadata": {},
     "output_type": "execute_result"
    }
   ],
   "source": [
    "\n",
    "# \n",
    "ColumnList = ['P_Spell_ID', 'diagnosis_group']\n",
    "df_AllEpisodes_Sub = df_AllEpisodes[ColumnList]\n",
    "\n",
    "def ICD10_AllEpisodes(df):\n",
    "    ICD10_All = df.groupby(by='P_Spell_ID')['diagnosis_group'].agg('~'.join)\n",
    "    df_ICD10All = pd.DataFrame(data={'P_Spell_ID':ICD10_All.index, 'ICD10_All':ICD10_All.values})\n",
    "    df_ICD10All['ICD10_All'] = df_ICD10All['ICD10_All'].str.split('~')\n",
    "    df_ICD10All['ICD10_All'] = df_ICD10All['ICD10_All'].apply(set).apply(list)\n",
    "    \n",
    "    # Remove -1 from ICD-10 code chain\n",
    "    for index in df_ICD10All.index:\n",
    "        if '-1' in df_ICD10All.loc[index, 'ICD10_All']:\n",
    "            df_ICD10All.loc[index, 'ICD10_All'].remove('-1')\n",
    "                \n",
    "    df_ICD10All['ICD10_All'] = df_ICD10All['ICD10_All'].apply('-'.join)\n",
    "    \n",
    "    return df_ICD10All\n",
    "\n",
    "df_ICD10All = ICD10_AllEpisodes(df_AllEpisodes_Sub)\n",
    "print('Shape of dataset:', df_ICD10All.shape)\n",
    "df_ICD10All.head(2)\n"
   ]
  },
  {
   "cell_type": "markdown",
   "id": "c96a59c5",
   "metadata": {},
   "source": [
    "## Comparing episodes and final code chain"
   ]
  },
  {
   "cell_type": "code",
   "execution_count": 163,
   "id": "11fa5deb",
   "metadata": {},
   "outputs": [
    {
     "name": "stdout",
     "output_type": "stream",
     "text": [
      "ICD-10 codes across ALL episodes within spell 4804 :\n",
      "['Z950-A415-I10X-J128-B964-C799-C61X-H409-N390-J90X-U072-M199']\n",
      "----------\n",
      "ICD-10 codes for ALL episodes within spell 4804 :\n"
     ]
    },
    {
     "data": {
      "text/plain": [
       "array(['A415~N390~B964~U072~J128~J90X~C61X~C799~I10X~H409~M199~Z950~-1~-1~-1~-1~-1~-1~-1~-1',\n",
       "       'A415~N390~B964~U072~J128~J90X~C61X~C799~I10X~H409~M199~Z950~-1~-1~-1~-1~-1~-1~-1~-1',\n",
       "       'A415~N390~U072~J128~J90X~C61X~C799~I10X~H409~M199~Z950~-1~-1~-1~-1~-1~-1~-1~-1~-1',\n",
       "       'A415~U072~J128~J90X~C61X~C799~I10X~H409~M199~Z950~-1~-1~-1~-1~-1~-1~-1~-1~-1~-1',\n",
       "       'A415~U072~J128~C61X~C799~I10X~H409~M199~Z950~-1~-1~-1~-1~-1~-1~-1~-1~-1~-1~-1'],\n",
       "      dtype=object)"
      ]
     },
     "execution_count": 163,
     "metadata": {},
     "output_type": "execute_result"
    }
   ],
   "source": [
    "\n",
    "SpellID = 4804\n",
    "Filter = df_ICD10All['P_Spell_ID']==SpellID\n",
    "print('ICD-10 codes across ALL episodes within spell', SpellID, ':')\n",
    "print(list(df_ICD10All[Filter]['ICD10_All'].values))\n",
    "\n",
    "print('----------')\n",
    "Filter = df_AllEpisodes['P_Spell_ID']==SpellID\n",
    "print('ICD-10 codes for ALL episodes within spell', SpellID, ':')\n",
    "List = list(set('~'.join(list(df_AllEpisodes[Filter]['diagnosis_group'].values)).split('~')))\n",
    "List.remove('-1')\n",
    "df_AllEpisodes[Filter]['diagnosis_group'].values\n"
   ]
  },
  {
   "cell_type": "code",
   "execution_count": 164,
   "id": "6f2c43a5",
   "metadata": {},
   "outputs": [],
   "source": [
    "\n",
    "Save = False\n",
    "if Save:\n",
    "    df_ICD10All.to_csv(r'O:\\GIRFT DiRAC\\FlavienHardy\\2_NosocomialInfections\\ICD10_AllEpisodes.csv')\n",
    "    "
   ]
  },
  {
   "cell_type": "code",
   "execution_count": null,
   "id": "068d78cd",
   "metadata": {},
   "outputs": [],
   "source": []
  },
  {
   "cell_type": "code",
   "execution_count": null,
   "id": "73ebc5d0",
   "metadata": {},
   "outputs": [],
   "source": []
  }
 ],
 "metadata": {
  "kernelspec": {
   "display_name": "env",
   "language": "python",
   "name": "env"
  },
  "language_info": {
   "codemirror_mode": {
    "name": "ipython",
    "version": 3
   },
   "file_extension": ".py",
   "mimetype": "text/x-python",
   "name": "python",
   "nbconvert_exporter": "python",
   "pygments_lexer": "ipython3",
   "version": "3.9.2"
  }
 },
 "nbformat": 4,
 "nbformat_minor": 5
}
