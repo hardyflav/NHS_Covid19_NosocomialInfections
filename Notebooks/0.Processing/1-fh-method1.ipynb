{
 "cells": [
  {
   "cell_type": "markdown",
   "id": "59ac12d6",
   "metadata": {},
   "source": [
    "# Identification of NI using method 1 (Y95 code)"
   ]
  },
  {
   "cell_type": "markdown",
   "id": "254e550c",
   "metadata": {},
   "source": [
    "Notes: - Includes data from 1st January 2020 - 31st March 2021"
   ]
  },
  {
   "cell_type": "code",
   "execution_count": 2,
   "id": "67a58153",
   "metadata": {},
   "outputs": [],
   "source": [
    "# Importing Libraries\n",
    "import import_ipynb\n",
    "import pandas as pd\n",
    "import numpy as np\n",
    "import matplotlib.pyplot as plt\n",
    "import seaborn as sns\n",
    "\n",
    "# Importing Notebooks\n",
    "import NI_M1"
   ]
  },
  {
   "cell_type": "markdown",
   "id": "1efdfccc",
   "metadata": {},
   "source": [
    "## Importing and reading datasets"
   ]
  },
  {
   "cell_type": "code",
   "execution_count": 5,
   "id": "f6c44503",
   "metadata": {},
   "outputs": [],
   "source": [
    "\n",
    "SaveCSV = False\n",
    "ReadExcel = True\n",
    "\n",
    "# Optional: Reading Excel file and saving csv file\n",
    "if SaveCSV:\n",
    "    read_file = pd.read_excel(r'O:\\DiRAC\\FlavienHardy\\2_NosocomialInfections\\Data\\0_Raw\\MarchData\\All episodes 07-06-21.xlsx', sheet_name='Sheet1')\n",
    "    read_file.to_csv(r'O:\\DiRAC\\FlavienHardy\\2_NosocomialInfections\\Data\\1_Processed\\All episodes 07-06-21.csv', index=None, header=True)\n",
    "\n",
    "if ReadExcel:\n",
    "    # Importing dataset\n",
    "    df_UniquePatients = pd.read_excel(r'O:\\GIRFT DiRAC\\FlavienHardy\\2_NosocomialInfections\\Data\\0_Raw\\MarchData\\FINAL unique patients (Mar-Mar) 04-06-21.xlsx')\n"
   ]
  },
  {
   "cell_type": "code",
   "execution_count": 7,
   "id": "428a301e",
   "metadata": {},
   "outputs": [
    {
     "name": "stdout",
     "output_type": "stream",
     "text": [
      "Size of dataset: (374244, 15)\n"
     ]
    },
    {
     "data": {
      "text/html": [
       "<div>\n",
       "<style scoped>\n",
       "    .dataframe tbody tr th:only-of-type {\n",
       "        vertical-align: middle;\n",
       "    }\n",
       "\n",
       "    .dataframe tbody tr th {\n",
       "        vertical-align: top;\n",
       "    }\n",
       "\n",
       "    .dataframe thead th {\n",
       "        text-align: right;\n",
       "    }\n",
       "</style>\n",
       "<table border=\"1\" class=\"dataframe\">\n",
       "  <thead>\n",
       "    <tr style=\"text-align: right;\">\n",
       "      <th></th>\n",
       "      <th>P_Spell_ID</th>\n",
       "      <th>ProvCode</th>\n",
       "      <th>HESID</th>\n",
       "      <th>diagnosis_group</th>\n",
       "      <th>Spell_Los</th>\n",
       "      <th>MORT</th>\n",
       "      <th>ageband</th>\n",
       "      <th>sex</th>\n",
       "      <th>ethnicity_updated_cat</th>\n",
       "      <th>IMD_decile</th>\n",
       "      <th>POD</th>\n",
       "      <th>Admission_date</th>\n",
       "      <th>Discharge_date</th>\n",
       "      <th>EPIstart</th>\n",
       "      <th>EPIend</th>\n",
       "    </tr>\n",
       "  </thead>\n",
       "  <tbody>\n",
       "    <tr>\n",
       "      <th>0</th>\n",
       "      <td>1487000</td>\n",
       "      <td>RXK</td>\n",
       "      <td>01B56B98137DE12EE38B34EADA7E71DB</td>\n",
       "      <td>M7265~T814~B968~U071~I801~B182~I517~F112~Z867~...</td>\n",
       "      <td>54</td>\n",
       "      <td>0</td>\n",
       "      <td>A</td>\n",
       "      <td>Male</td>\n",
       "      <td>White</td>\n",
       "      <td>NaN</td>\n",
       "      <td>EM</td>\n",
       "      <td>2021-02-05</td>\n",
       "      <td>2021-03-31</td>\n",
       "      <td>2021-03-22 00:00:00</td>\n",
       "      <td>2021-03-31 00:00:00</td>\n",
       "    </tr>\n",
       "    <tr>\n",
       "      <th>1</th>\n",
       "      <td>2169012</td>\n",
       "      <td>RHU</td>\n",
       "      <td>028370D13668ED4A6578A3F5D6C1431E</td>\n",
       "      <td>K590~U071~R268~R35X~I489~I10X~E119~E669~G473~M...</td>\n",
       "      <td>7</td>\n",
       "      <td>0</td>\n",
       "      <td>E</td>\n",
       "      <td>Female</td>\n",
       "      <td>White</td>\n",
       "      <td>8.0</td>\n",
       "      <td>EM</td>\n",
       "      <td>2021-03-24</td>\n",
       "      <td>2021-03-31</td>\n",
       "      <td>2021-03-24 00:00:00</td>\n",
       "      <td>2021-03-31 00:00:00</td>\n",
       "    </tr>\n",
       "  </tbody>\n",
       "</table>\n",
       "</div>"
      ],
      "text/plain": [
       "   P_Spell_ID ProvCode                             HESID  \\\n",
       "0     1487000      RXK  01B56B98137DE12EE38B34EADA7E71DB   \n",
       "1     2169012      RHU  028370D13668ED4A6578A3F5D6C1431E   \n",
       "\n",
       "                                     diagnosis_group  Spell_Los  MORT ageband  \\\n",
       "0  M7265~T814~B968~U071~I801~B182~I517~F112~Z867~...         54     0       A   \n",
       "1  K590~U071~R268~R35X~I489~I10X~E119~E669~G473~M...          7     0       E   \n",
       "\n",
       "      sex ethnicity_updated_cat  IMD_decile POD Admission_date Discharge_date  \\\n",
       "0    Male                 White         NaN  EM     2021-02-05     2021-03-31   \n",
       "1  Female                 White         8.0  EM     2021-03-24     2021-03-31   \n",
       "\n",
       "              EPIstart               EPIend  \n",
       "0  2021-03-22 00:00:00  2021-03-31 00:00:00  \n",
       "1  2021-03-24 00:00:00  2021-03-31 00:00:00  "
      ]
     },
     "execution_count": 7,
     "metadata": {},
     "output_type": "execute_result"
    }
   ],
   "source": [
    "\n",
    "# Selecting columns\n",
    "ColumnList = ['P_Spell_ID', 'ProvCode', 'HESID', 'diagnosis_group', 'Spell_Los', 'MORT', 'ageband', 'sex', 'ethnicity_updated_cat', 'IMD_decile', 'POD', 'Admission_date', 'Discharge_date', 'EPIstart', 'EPIend']\n",
    "df_UniquePatients = df_UniquePatients[ColumnList]\n",
    "\n",
    "print('Size of dataset:', df_UniquePatients.shape)\n",
    "df_UniquePatients.head(2)\n"
   ]
  },
  {
   "cell_type": "markdown",
   "id": "ee15ff18",
   "metadata": {},
   "source": [
    "## Implement method 1"
   ]
  },
  {
   "cell_type": "code",
   "execution_count": 10,
   "id": "7a7dcef7",
   "metadata": {},
   "outputs": [
    {
     "name": "stderr",
     "output_type": "stream",
     "text": [
      "C:\\Users\\flavien.hardy\\OneDrive - NHS Improvement\\Desktop\\FH_Local\\env\\lib\\site-packages\\pandas\\core\\strings\\accessor.py:101: UserWarning: This pattern has match groups. To actually get the groups, use str.extract.\n",
      "  return func(self, *args, **kwargs)\n"
     ]
    },
    {
     "name": "stdout",
     "output_type": "stream",
     "text": [
      "Size of dataset: (374244, 16)\n"
     ]
    },
    {
     "data": {
      "text/html": [
       "<div>\n",
       "<style scoped>\n",
       "    .dataframe tbody tr th:only-of-type {\n",
       "        vertical-align: middle;\n",
       "    }\n",
       "\n",
       "    .dataframe tbody tr th {\n",
       "        vertical-align: top;\n",
       "    }\n",
       "\n",
       "    .dataframe thead th {\n",
       "        text-align: right;\n",
       "    }\n",
       "</style>\n",
       "<table border=\"1\" class=\"dataframe\">\n",
       "  <thead>\n",
       "    <tr style=\"text-align: right;\">\n",
       "      <th></th>\n",
       "      <th>P_Spell_ID</th>\n",
       "      <th>ProvCode</th>\n",
       "      <th>HESID</th>\n",
       "      <th>diagnosis_group</th>\n",
       "      <th>Spell_Los</th>\n",
       "      <th>MORT</th>\n",
       "      <th>ageband</th>\n",
       "      <th>sex</th>\n",
       "      <th>ethnicity_updated_cat</th>\n",
       "      <th>IMD_decile</th>\n",
       "      <th>POD</th>\n",
       "      <th>Admission_date</th>\n",
       "      <th>Discharge_date</th>\n",
       "      <th>EPIstart</th>\n",
       "      <th>EPIend</th>\n",
       "      <th>NC_Method1</th>\n",
       "    </tr>\n",
       "  </thead>\n",
       "  <tbody>\n",
       "    <tr>\n",
       "      <th>0</th>\n",
       "      <td>1487000</td>\n",
       "      <td>RXK</td>\n",
       "      <td>01B56B98137DE12EE38B34EADA7E71DB</td>\n",
       "      <td>M7265~T814~B968~U071~I801~B182~I517~F112~Z867~...</td>\n",
       "      <td>54</td>\n",
       "      <td>0</td>\n",
       "      <td>A</td>\n",
       "      <td>Male</td>\n",
       "      <td>White</td>\n",
       "      <td>NaN</td>\n",
       "      <td>EM</td>\n",
       "      <td>2021-02-05</td>\n",
       "      <td>2021-03-31</td>\n",
       "      <td>2021-03-22 00:00:00</td>\n",
       "      <td>2021-03-31 00:00:00</td>\n",
       "      <td>0</td>\n",
       "    </tr>\n",
       "    <tr>\n",
       "      <th>1</th>\n",
       "      <td>2169012</td>\n",
       "      <td>RHU</td>\n",
       "      <td>028370D13668ED4A6578A3F5D6C1431E</td>\n",
       "      <td>K590~U071~R268~R35X~I489~I10X~E119~E669~G473~M...</td>\n",
       "      <td>7</td>\n",
       "      <td>0</td>\n",
       "      <td>E</td>\n",
       "      <td>Female</td>\n",
       "      <td>White</td>\n",
       "      <td>8.0</td>\n",
       "      <td>EM</td>\n",
       "      <td>2021-03-24</td>\n",
       "      <td>2021-03-31</td>\n",
       "      <td>2021-03-24 00:00:00</td>\n",
       "      <td>2021-03-31 00:00:00</td>\n",
       "      <td>0</td>\n",
       "    </tr>\n",
       "  </tbody>\n",
       "</table>\n",
       "</div>"
      ],
      "text/plain": [
       "   P_Spell_ID ProvCode                             HESID  \\\n",
       "0     1487000      RXK  01B56B98137DE12EE38B34EADA7E71DB   \n",
       "1     2169012      RHU  028370D13668ED4A6578A3F5D6C1431E   \n",
       "\n",
       "                                     diagnosis_group  Spell_Los  MORT ageband  \\\n",
       "0  M7265~T814~B968~U071~I801~B182~I517~F112~Z867~...         54     0       A   \n",
       "1  K590~U071~R268~R35X~I489~I10X~E119~E669~G473~M...          7     0       E   \n",
       "\n",
       "      sex ethnicity_updated_cat  IMD_decile POD Admission_date Discharge_date  \\\n",
       "0    Male                 White         NaN  EM     2021-02-05     2021-03-31   \n",
       "1  Female                 White         8.0  EM     2021-03-24     2021-03-31   \n",
       "\n",
       "              EPIstart               EPIend  NC_Method1  \n",
       "0  2021-03-22 00:00:00  2021-03-31 00:00:00           0  \n",
       "1  2021-03-24 00:00:00  2021-03-31 00:00:00           0  "
      ]
     },
     "execution_count": 10,
     "metadata": {},
     "output_type": "execute_result"
    }
   ],
   "source": [
    "\n",
    "# Add column for identification of NI using method 1\n",
    "df = NI_M1.PreProcessing(df_UniquePatients)\n",
    "df = NI_M1.NI_M1_Identification(df)\n",
    "\n",
    "print('Size of dataset:', df.shape)\n",
    "df.head(2)\n"
   ]
  },
  {
   "cell_type": "code",
   "execution_count": 11,
   "id": "7064669a",
   "metadata": {},
   "outputs": [
    {
     "name": "stdout",
     "output_type": "stream",
     "text": [
      "Total number of infections in dataset:  374244\n",
      "Number of identified NI using M1:  18208\n",
      "Proportion of identified NI using M1:  4.865275061190026 %\n"
     ]
    }
   ],
   "source": [
    "\n",
    "# Print characteristics\n",
    "N_NI_M1 = df['NC_Method1'].sum()\n",
    "N_Infections = df['NC_Method1'].count()\n",
    "NI_Prop_NI = 100*N_NI_M1/N_Infections\n",
    "\n",
    "print('Total number of infections in dataset: ', N_Infections)\n",
    "print('Number of identified NI using M1: ', N_NI_M1)\n",
    "print('Proportion of identified NI using M1: ', NI_Prop_NI, '%')\n"
   ]
  },
  {
   "cell_type": "code",
   "execution_count": 13,
   "id": "ad84f9b2",
   "metadata": {},
   "outputs": [],
   "source": [
    "\n",
    "# Save M1 dataframe\n",
    "Save = True\n",
    "path = r'O:\\GIRFT DiRAC\\FlavienHardy\\2_NosocomialInfections\\src\\0.processing\\data\\NI_M1.csv'\n",
    "if Save:\n",
    "    df.to_csv(r'O:\\GIRFT DiRAC\\FlavienHardy\\2_NosocomialInfections\\src\\0.processing\\data\\NI_M1.csv')\n"
   ]
  },
  {
   "cell_type": "code",
   "execution_count": null,
   "id": "e67d605b",
   "metadata": {},
   "outputs": [],
   "source": []
  }
 ],
 "metadata": {
  "kernelspec": {
   "display_name": "env",
   "language": "python",
   "name": "env"
  },
  "language_info": {
   "codemirror_mode": {
    "name": "ipython",
    "version": 3
   },
   "file_extension": ".py",
   "mimetype": "text/x-python",
   "name": "python",
   "nbconvert_exporter": "python",
   "pygments_lexer": "ipython3",
   "version": "3.9.2"
  }
 },
 "nbformat": 4,
 "nbformat_minor": 5
}
