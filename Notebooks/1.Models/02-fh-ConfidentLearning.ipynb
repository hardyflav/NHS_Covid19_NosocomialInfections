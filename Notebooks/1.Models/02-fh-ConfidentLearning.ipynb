{
 "cells": [
  {
   "cell_type": "markdown",
   "id": "85d1b9ab",
   "metadata": {},
   "source": [
    "# Test Confident Learning Classifier on Assembled Dataset"
   ]
  },
  {
   "cell_type": "markdown",
   "id": "5fac3f5b",
   "metadata": {},
   "source": [
    "Notes: - Includes data from 1st March 2020 - 31st March 2021 \\\n",
    "Method: CleanLab package for learning with noisy labels"
   ]
  },
  {
   "cell_type": "markdown",
   "id": "28dcc27f",
   "metadata": {},
   "source": [
    "## Importing libraries and dataset"
   ]
  },
  {
   "cell_type": "code",
   "execution_count": 1,
   "id": "ddc4b9b6",
   "metadata": {},
   "outputs": [],
   "source": [
    "\n",
    "# Import Libraries\n",
    "import import_ipynb\n",
    "from importlib import reload\n",
    "\n",
    "import pandas as pd\n",
    "import numpy as np\n",
    "import matplotlib.pyplot as plt\n",
    "import seaborn as sns\n",
    "\n",
    "from sklearn.ensemble import RandomForestClassifier\n",
    "from sklearn.model_selection import cross_val_score, RepeatedStratifiedKFold, train_test_split\n",
    "import sklearn.metrics as metrics\n",
    "from sklearn.metrics import classification_report, confusion_matrix\n",
    "\n",
    "from scipy.interpolate import interp1d\n",
    "from matplotlib.colors import LogNorm\n",
    "\n",
    "from cleanlab.classification import LearningWithNoisyLabels\n"
   ]
  },
  {
   "cell_type": "code",
   "execution_count": 2,
   "id": "78166022",
   "metadata": {
    "scrolled": false
   },
   "outputs": [],
   "source": [
    "\n",
    "# Import dataset\n",
    "ReadCSV = False\n",
    "if ReadCSV:\n",
    "    df_ini = pd.read_csv(r'O:\\GIRFT DiRAC\\FlavienHardy\\2_NosocomialInfections\\src\\0.processing\\data\\NI_Final.csv')\n"
   ]
  },
  {
   "cell_type": "code",
   "execution_count": 3,
   "id": "b14d753e",
   "metadata": {},
   "outputs": [
    {
     "name": "stdout",
     "output_type": "stream",
     "text": [
      "Total number of discharges 366859\n",
      "Number of features 101\n",
      "Number of NI 29642\n",
      "Proportion of NI 8.079943520535137\n"
     ]
    }
   ],
   "source": [
    "\n",
    "# Set X matrix and y vector\n",
    "ColumnList =['Unnamed: 0', 'NI_1p2_15', 'NC_Method1', 'NC_Method2_15', 'NC_Method2_8','NC_Method4', 'NI_AllMethods']\n",
    "X_ini = df_ini.drop(columns=ColumnList)\n",
    "y_ini = df_ini['NI_AllMethods']\n",
    "\n",
    "print('Total number of discharges', X_ini.shape[0])\n",
    "print('Number of features', X_ini.shape[1])\n",
    "print('Number of NI', y_ini.sum())\n",
    "print('Proportion of NI', 100*y_ini.sum()/y_ini.shape[0])\n"
   ]
  },
  {
   "cell_type": "markdown",
   "id": "84e8b280",
   "metadata": {},
   "source": [
    "## Split and Train"
   ]
  },
  {
   "cell_type": "code",
   "execution_count": 47,
   "id": "9972be7b",
   "metadata": {},
   "outputs": [],
   "source": [
    "\n",
    "# Split into training, validation | test sets\n",
    "X_trainval, X_test, y_trainval, y_test = train_test_split(X_ini, y_ini, test_size = 0.2, random_state=42)\n",
    "X_train, X_val, y_train, y_val = train_test_split(X_trainval, y_trainval, test_size = 0.2, random_state=42)\n"
   ]
  },
  {
   "cell_type": "code",
   "execution_count": 48,
   "id": "1350ead0",
   "metadata": {},
   "outputs": [],
   "source": [
    "\n",
    "#---------------- TESTING ----------------\n",
    "\n",
    "BalanceTraining = False\n",
    "\n",
    "if BalanceTraining:\n",
    "\n",
    "    # balancing training set\n",
    "    n_NI_Train = X_train[y_train==1].shape[0]\n",
    "    print('Initial number of NI:', n_NI_Train)\n",
    "    print('Initial NI proportion:',100*n_NI_Train/X_train.shape[0])\n",
    "\n",
    "    from imblearn.under_sampling import RandomUnderSampler\n",
    "    RUS = RandomUnderSampler(random_state=42)\n",
    "    RUS.fit(X_train, y_train)\n",
    "    X_train_balanced, y_train_balanced = RUS.fit_resample(X_train, y_train)\n",
    "\n",
    "    print('New number of NI:', X_train_balanced[y_train_balanced==1].shape[0])\n",
    "    print('New number of non-NI:', X_train_balanced[y_train_balanced==0].shape[0])\n",
    "\n",
    "    # Replacing training set with balanced one\n",
    "    X_train = X_train_balanced\n",
    "    y_train = y_train_balanced\n",
    "\n",
    "#---------------- TESTING ----------------\n",
    "\n"
   ]
  },
  {
   "cell_type": "code",
   "execution_count": 59,
   "id": "7a3bb05f",
   "metadata": {},
   "outputs": [
    {
     "data": {
      "text/plain": [
       "RandomForestClassifier(max_depth=62, min_samples_leaf=2, min_samples_split=10,\n",
       "                       n_estimators=279)"
      ]
     },
     "execution_count": 59,
     "metadata": {},
     "output_type": "execute_result"
    }
   ],
   "source": [
    "\n",
    "# Define classifier\n",
    "clf_RF = RandomForestClassifier(n_estimators=279,\n",
    "                                min_samples_split=10,\n",
    "                                min_samples_leaf=2,\n",
    "                                max_depth=62,\n",
    "                                max_features='auto',\n",
    "                                bootstrap=True,\n",
    "                                class_weight=None)\n",
    "\n",
    "# Wrap learningWithNoisyLabels class around classifier\n",
    "lnl = LearningWithNoisyLabels(clf=clf_RF,\n",
    "                              prune_method='both')\n",
    "\n",
    "# Train wrapped classifier\n",
    "lnl.fit(np.array(X_train), np.array(y_train))\n"
   ]
  },
  {
   "cell_type": "markdown",
   "id": "f06ee790",
   "metadata": {},
   "source": [
    "## Evaluation: ROC Curve"
   ]
  },
  {
   "cell_type": "code",
   "execution_count": 75,
   "id": "6b026f3b",
   "metadata": {},
   "outputs": [],
   "source": [
    "\n",
    "# Find predicted vectors\n",
    "y_pred_train = lnl.predict(np.array(X_train))\n",
    "y_pred_val_proba = lnl.predict_proba(np.array(X_val))\n",
    "\n",
    "# Change Probablity Threshold\n",
    "Threshold_Val = 0.25\n",
    "y_pred_val = [1 if y_pred_val_proba[i][1]>Threshold_Val else 0 for i in range(len(y_pred_val_proba))]\n",
    "y_pred_val_proba =  y_pred_val_proba[:,1]\n"
   ]
  },
  {
   "cell_type": "code",
   "execution_count": 76,
   "id": "a75166ae",
   "metadata": {},
   "outputs": [
    {
     "name": "stdout",
     "output_type": "stream",
     "text": [
      "ROC AUC Value:  0.8859933273188745\n"
     ]
    },
    {
     "data": {
      "image/png": "[encoded data removed]",
      "text/plain": [
       "<Figure size 432x288 with 1 Axes>"
      ]
     },
     "metadata": {
      "needs_background": "light"
     },
     "output_type": "display_data"
    }
   ],
   "source": [
    "\n",
    "# Find AUROC\n",
    "fpr, tpr, threshold = metrics.roc_curve(y_val, y_pred_val_proba)\n",
    "roc_auc = metrics.auc(fpr, tpr)\n",
    "print('ROC AUC Value: ', roc_auc)\n",
    "\n",
    "#----------------------------------------\n",
    "# Plot ROC Curve\n",
    "\n",
    "# --- Plot ROC Curve\n",
    "fig, ax = plt.subplots()\n",
    "CurveOpacity = 0.6\n",
    "ColorCurve = (26/255, 81/255, 37/255, CurveOpacity)\n",
    "plt.plot(fpr, tpr, color=ColorCurve, label='AUC = %0.2f' % roc_auc, linewidth=4, zorder=2)\n",
    "\n",
    "# --- Plot Diagonal Line\n",
    "ColorDiag = (220/255, 220/255, 220/255, CurveOpacity)\n",
    "plt.plot([0, 1], [0, 1], color=ColorDiag, linestyle='--', linewidth=2, zorder=2)\n",
    "\n",
    "# --- Plot current state on ROC curve\n",
    "FilterThreshold = (threshold==Threshold_Val)\n",
    "f_FPR = interp1d(threshold, fpr)\n",
    "f_TPR = interp1d(threshold, tpr)\n",
    "OpacityPoint = 1\n",
    "ColorPoint = [65/255, 105/255, 225/255, OpacityPoint]\n",
    "plt.scatter(x=f_FPR(Threshold_Val), y=f_TPR(Threshold_Val), s=100, color=ColorPoint, zorder=3)\n",
    "\n",
    "# --- Options\n",
    "plt.xlabel('False Positive Rate')\n",
    "plt.ylabel('True Positive Rate')\n",
    "plt.axis('scaled')\n",
    "plt.text(0.54, 0.02, 'AUROC =  %0.2f' % roc_auc, color='white', fontsize=12)\n",
    "ax.set_facecolor([0, 0, 0, 0.5])\n",
    "ax.grid(b=True, alpha=0.5, zorder=1)\n"
   ]
  },
  {
   "cell_type": "markdown",
   "id": "1f6679c7",
   "metadata": {},
   "source": [
    "## Plot and Analyse Confusion Matrix"
   ]
  },
  {
   "cell_type": "code",
   "execution_count": 77,
   "id": "d01433ee",
   "metadata": {},
   "outputs": [
    {
     "data": {
      "text/plain": [
       "Text(313.08000000000004, 0.5, 'Initial label')"
      ]
     },
     "execution_count": 77,
     "metadata": {},
     "output_type": "execute_result"
    },
    {
     "data": {
      "image/png": "[encoded data removed]",
      "text/plain": [
       "<Figure size 864x288 with 1 Axes>"
      ]
     },
     "metadata": {
      "needs_background": "light"
     },
     "output_type": "display_data"
    }
   ],
   "source": [
    "\n",
    "fig2, ax2 = plt.subplots(1, 1, figsize=(12, 4))\n",
    "\n",
    "# Compute confusion matrix on validation set\n",
    "CM = confusion_matrix(y_val, y_pred_val, normalize='all')\n",
    "\n",
    "# Options for annotation and categories\n",
    "annot_kws={'fontsize':15,\n",
    "          'alpha':0.8}\n",
    "Categories = ['CI', 'NI']\n",
    "\n",
    "# Plot confusion matrix\n",
    "res = sns.heatmap(CM, annot=True, fmt='0.1%', cmap='Blues', norm=LogNorm(),\n",
    "           annot_kws=annot_kws,\n",
    "           linewidth=2,\n",
    "           xticklabels=Categories,\n",
    "           yticklabels=Categories,\n",
    "           square=True,\n",
    "           cbar=False,\n",
    "           linecolor='gray')\n",
    "\n",
    "# Remove ticks on x and y axes\n",
    "res.set_xticklabels(res.get_xmajorticklabels(), fontsize=13, rotation=45)\n",
    "res.set_yticklabels(res.get_ymajorticklabels(), fontsize=13, rotation=45)\n",
    "\n",
    "# Add labels\n",
    "plt.xlabel('Predicted label', fontsize=14)\n",
    "plt.ylabel('Initial label', fontsize=14)\n"
   ]
  },
  {
   "cell_type": "code",
   "execution_count": 78,
   "id": "608faa75",
   "metadata": {},
   "outputs": [
    {
     "name": "stdout",
     "output_type": "stream",
     "text": [
      "Number of predicted NI: 8420\n",
      "Out of: 58698 infections.\n",
      "New predicted NI rate: 14.344611400729155 %\n"
     ]
    }
   ],
   "source": [
    "\n",
    "# New predicted NI rate on validation set\n",
    "n_NI_pred = np.sum(y_pred_val)\n",
    "n_Infections = len(y_pred_val)\n",
    "Prop_pred = 100*n_NI_pred/n_Infections\n",
    "print('Number of predicted NI:', n_NI_pred)\n",
    "print('Out of:', n_Infections, 'infections.')\n",
    "print('New predicted NI rate:', Prop_pred, '%')\n"
   ]
  },
  {
   "cell_type": "markdown",
   "id": "2b5fa5ff",
   "metadata": {},
   "source": [
    "### Find TPR of each method"
   ]
  },
  {
   "cell_type": "code",
   "execution_count": 79,
   "id": "7ded5c84",
   "metadata": {},
   "outputs": [
    {
     "name": "stdout",
     "output_type": "stream",
     "text": [
      "TPR of NC_Method1 59.16978564137462 %\n",
      "TPR of NC_Method2_15 93.38983050847457 %\n",
      "TPR of NC_Method2_8 80.02539145154465 %\n",
      "TPR of NC_Method4 19.791666666666668 %\n"
     ]
    }
   ],
   "source": [
    "\n",
    "Index_pred_positives = list(X_val[ pd.array(y_pred_val)==1 ].index)\n",
    "Index_pred_negatives = list(X_val[ pd.array(y_pred_val)==0 ].index)\n",
    "\n",
    "def TPR_Method(Method):\n",
    "    # Was initially identified as NI by method\n",
    "    Index_method_positives = list( df_ini[df_ini[Method]==1].index )\n",
    "    Index_method_negatives = list( df_ini[df_ini[Method]==0].index )\n",
    "\n",
    "    Index_method_TP = list( set.intersection( set(Index_method_positives), set(Index_pred_positives) ) )\n",
    "    Index_method_FN = list( set.intersection( set(Index_method_positives), set(Index_pred_negatives) ) )\n",
    "\n",
    "    TPR_Method = 100 * len(Index_method_TP) / (len(Index_method_TP)+len(Index_method_FN))\n",
    "    print('TPR of', Method, TPR_Method, '%')\n",
    "\n",
    "Methods = ['NC_Method1', 'NC_Method2_15', 'NC_Method2_8', 'NC_Method4']\n",
    "for method in Methods:\n",
    "    TPR_Method(method)\n",
    "    "
   ]
  },
  {
   "cell_type": "markdown",
   "id": "4866280a",
   "metadata": {},
   "source": [
    "### Find predicted label errors"
   ]
  },
  {
   "cell_type": "code",
   "execution_count": 106,
   "id": "69c096b0",
   "metadata": {},
   "outputs": [],
   "source": [
    "\n",
    "from cleanlab.pruning import get_noise_indices\n",
    "\n",
    "y_pred_val_proba = lnl.predict_proba(np.array(X_val))\n",
    "label_error_indices = get_noise_indices(s=np.array(y_val),\n",
    "                                       psx=np.array(y_pred_val_proba),\n",
    "                                       sorted_index_method='normalized_margin')\n"
   ]
  },
  {
   "cell_type": "code",
   "execution_count": 118,
   "id": "9fa2bb0b",
   "metadata": {},
   "outputs": [
    {
     "name": "stdout",
     "output_type": "stream",
     "text": [
      "95\n",
      "33\n",
      "65\n",
      "6\n"
     ]
    },
    {
     "data": {
      "text/plain": [
       "1672"
      ]
     },
     "execution_count": 118,
     "metadata": {},
     "output_type": "execute_result"
    }
   ],
   "source": [
    "\n",
    "label_error_indices2 = label_error_indices\n",
    "print(df_ini.iloc[label_error_indices2, :]['NC_Method1'].sum())\n",
    "print(df_ini.iloc[label_error_indices2, :]['NC_Method2_15'].sum())\n",
    "print(df_ini.iloc[label_error_indices2, :]['NC_Method2_8'].sum())\n",
    "print(df_ini.iloc[label_error_indices2, :]['NC_Method4'].sum())\n",
    "len(label_error_indices2)\n"
   ]
  },
  {
   "cell_type": "markdown",
   "id": "f134ab13",
   "metadata": {},
   "source": [
    "## Extract Feature Importance"
   ]
  },
  {
   "cell_type": "code",
   "execution_count": 120,
   "id": "1160b624",
   "metadata": {},
   "outputs": [
    {
     "data": {
      "text/html": [
       "<div>\n",
       "<style scoped>\n",
       "    .dataframe tbody tr th:only-of-type {\n",
       "        vertical-align: middle;\n",
       "    }\n",
       "\n",
       "    .dataframe tbody tr th {\n",
       "        vertical-align: top;\n",
       "    }\n",
       "\n",
       "    .dataframe thead th {\n",
       "        text-align: right;\n",
       "    }\n",
       "</style>\n",
       "<table border=\"1\" class=\"dataframe\">\n",
       "  <thead>\n",
       "    <tr style=\"text-align: right;\">\n",
       "      <th></th>\n",
       "      <th>Features</th>\n",
       "      <th>Importance</th>\n",
       "    </tr>\n",
       "  </thead>\n",
       "  <tbody>\n",
       "    <tr>\n",
       "      <th>4</th>\n",
       "      <td>Spell_Los</td>\n",
       "      <td>0.359211</td>\n",
       "    </tr>\n",
       "    <tr>\n",
       "      <th>34</th>\n",
       "      <td>Discharge_date_Delta</td>\n",
       "      <td>0.049718</td>\n",
       "    </tr>\n",
       "    <tr>\n",
       "      <th>0</th>\n",
       "      <td>IMD_score</td>\n",
       "      <td>0.045181</td>\n",
       "    </tr>\n",
       "    <tr>\n",
       "      <th>1</th>\n",
       "      <td>age_of_patient</td>\n",
       "      <td>0.043962</td>\n",
       "    </tr>\n",
       "    <tr>\n",
       "      <th>33</th>\n",
       "      <td>Patients_Count</td>\n",
       "      <td>0.040048</td>\n",
       "    </tr>\n",
       "    <tr>\n",
       "      <th>31</th>\n",
       "      <td>Charlson_Score</td>\n",
       "      <td>0.031809</td>\n",
       "    </tr>\n",
       "    <tr>\n",
       "      <th>94</th>\n",
       "      <td>HFRS_Band_Severe</td>\n",
       "      <td>0.030359</td>\n",
       "    </tr>\n",
       "    <tr>\n",
       "      <th>12</th>\n",
       "      <td>Total_Hopper_Domains</td>\n",
       "      <td>0.027901</td>\n",
       "    </tr>\n",
       "    <tr>\n",
       "      <th>91</th>\n",
       "      <td>dis_dest_Spell_Usual place</td>\n",
       "      <td>0.020661</td>\n",
       "    </tr>\n",
       "    <tr>\n",
       "      <th>2</th>\n",
       "      <td>SpellCCdays</td>\n",
       "      <td>0.018687</td>\n",
       "    </tr>\n",
       "    <tr>\n",
       "      <th>7</th>\n",
       "      <td>Hopper_Index_3</td>\n",
       "      <td>0.015228</td>\n",
       "    </tr>\n",
       "    <tr>\n",
       "      <th>45</th>\n",
       "      <td>ICD10_J189</td>\n",
       "      <td>0.013901</td>\n",
       "    </tr>\n",
       "    <tr>\n",
       "      <th>3</th>\n",
       "      <td>MORT</td>\n",
       "      <td>0.013047</td>\n",
       "    </tr>\n",
       "    <tr>\n",
       "      <th>41</th>\n",
       "      <td>ICD10_J90X</td>\n",
       "      <td>0.010739</td>\n",
       "    </tr>\n",
       "    <tr>\n",
       "      <th>44</th>\n",
       "      <td>ICD10_J181</td>\n",
       "      <td>0.010344</td>\n",
       "    </tr>\n",
       "    <tr>\n",
       "      <th>16</th>\n",
       "      <td>cerebral_vasc</td>\n",
       "      <td>0.010318</td>\n",
       "    </tr>\n",
       "    <tr>\n",
       "      <th>5</th>\n",
       "      <td>Hopper_Index_1</td>\n",
       "      <td>0.008714</td>\n",
       "    </tr>\n",
       "    <tr>\n",
       "      <th>14</th>\n",
       "      <td>heart_fail</td>\n",
       "      <td>0.008399</td>\n",
       "    </tr>\n",
       "    <tr>\n",
       "      <th>8</th>\n",
       "      <td>Hopper_Index_4</td>\n",
       "      <td>0.008126</td>\n",
       "    </tr>\n",
       "    <tr>\n",
       "      <th>40</th>\n",
       "      <td>ICD10_N390</td>\n",
       "      <td>0.008079</td>\n",
       "    </tr>\n",
       "  </tbody>\n",
       "</table>\n",
       "</div>"
      ],
      "text/plain": [
       "                       Features  Importance\n",
       "4                     Spell_Los    0.359211\n",
       "34         Discharge_date_Delta    0.049718\n",
       "0                     IMD_score    0.045181\n",
       "1                age_of_patient    0.043962\n",
       "33               Patients_Count    0.040048\n",
       "31               Charlson_Score    0.031809\n",
       "94             HFRS_Band_Severe    0.030359\n",
       "12         Total_Hopper_Domains    0.027901\n",
       "91  dis_dest_Spell_Usual place     0.020661\n",
       "2                   SpellCCdays    0.018687\n",
       "7                Hopper_Index_3    0.015228\n",
       "45                   ICD10_J189    0.013901\n",
       "3                          MORT    0.013047\n",
       "41                   ICD10_J90X    0.010739\n",
       "44                   ICD10_J181    0.010344\n",
       "16                cerebral_vasc    0.010318\n",
       "5                Hopper_Index_1    0.008714\n",
       "14                   heart_fail    0.008399\n",
       "8                Hopper_Index_4    0.008126\n",
       "40                   ICD10_N390    0.008079"
      ]
     },
     "execution_count": 120,
     "metadata": {},
     "output_type": "execute_result"
    }
   ],
   "source": [
    "\n",
    "FeatureImportance = pd.DataFrame({'Features':list(X_train.columns), 'Importance':clf_RF.feature_importances_}).sort_values('Importance', ascending=False)\n",
    "FeatureImportance[0:20]\n"
   ]
  },
  {
   "cell_type": "code",
   "execution_count": null,
   "id": "63f883db",
   "metadata": {},
   "outputs": [],
   "source": []
  },
  {
   "cell_type": "code",
   "execution_count": null,
   "id": "9059908a",
   "metadata": {},
   "outputs": [],
   "source": []
  }
 ],
 "metadata": {
  "kernelspec": {
   "display_name": "Python 3",
   "language": "python",
   "name": "python3"
  },
  "language_info": {
   "codemirror_mode": {
    "name": "ipython",
    "version": 3
   },
   "file_extension": ".py",
   "mimetype": "text/x-python",
   "name": "python",
   "nbconvert_exporter": "python",
   "pygments_lexer": "ipython3",
   "version": "3.9.2"
  }
 },
 "nbformat": 4,
 "nbformat_minor": 5
}
